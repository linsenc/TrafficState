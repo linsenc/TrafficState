{
 "cells": [
  {
   "cell_type": "markdown",
   "metadata": {},
   "source": [
    "# Input file brief discription\n",
    "\n",
    "This notebook includes the process of reading the traffic flow data of a traffic scenario, which are then used as the input to the machine learning algorithm. \n",
    "\n",
    "Traffic flow data are stored in a sqlite file, in the table \"MISECT\". Inside table MISECT, we write query to extract link (road section) based traffic information, i.e., traffic flow (vehicle/hr), vehicle counts, mean travel time, speed and density.\n",
    "\n",
    "In this script, we first get the names of tables from the master table to see if table MISECT is included. Then, we write query within table MISECT to get link (road) based traffic information to extract data from a senario. \n",
    "\n",
    "This discription is for files that store the link information only. The sensor information is stored in another sqlite file and can be extracted in the same manner. "
   ]
  },
  {
   "cell_type": "code",
   "execution_count": 23,
   "metadata": {
    "collapsed": false
   },
   "outputs": [
    {
     "name": "stdout",
     "output_type": "stream",
     "text": [
      "C:\\GitFiles\n"
     ]
    }
   ],
   "source": [
    "cd C:\\GitFiles"
   ]
  },
  {
   "cell_type": "code",
   "execution_count": 24,
   "metadata": {
    "collapsed": true
   },
   "outputs": [],
   "source": [
    "import pandas as pd\n",
    "import numpy as np\n",
    "import sqlite3, os"
   ]
  },
  {
   "cell_type": "code",
   "execution_count": 25,
   "metadata": {
    "collapsed": true
   },
   "outputs": [],
   "source": [
    "sqlite_file='C:\\GitFiles\\TSS_SANDAG_NETWORK_V8_typicalDayLastestNetwork_8-10AM_0.sqlite' #database file\n"
   ]
  },
  {
   "cell_type": "code",
   "execution_count": 26,
   "metadata": {
    "collapsed": false
   },
   "outputs": [],
   "source": [
    "db=sqlite3.connect(sqlite_file) #connecting to sqlite file"
   ]
  },
  {
   "cell_type": "code",
   "execution_count": 27,
   "metadata": {
    "collapsed": false
   },
   "outputs": [
    {
     "name": "stdout",
     "output_type": "stream",
     "text": [
      "<map object at 0x0000000006BA9EF0>\n"
     ]
    }
   ],
   "source": [
    "tableListQuery=\"SELECT name FROM sqlite_master WHERE type='table' ORDER BY Name\"\n",
    "cursor = db.cursor() \n",
    "cursor.execute(tableListQuery)\n",
    "tables = map(lambda t: t[0], cursor.fetchall())\n",
    "print (tables) #get tables"
   ]
  },
  {
   "cell_type": "code",
   "execution_count": 28,
   "metadata": {
    "collapsed": false
   },
   "outputs": [
    {
     "data": {
      "text/plain": [
       "<sqlite3.Connection at 0x6a04490>"
      ]
     },
     "execution_count": 28,
     "metadata": {},
     "output_type": "execute_result"
    }
   ],
   "source": [
    "db"
   ]
  },
  {
   "cell_type": "code",
   "execution_count": 30,
   "metadata": {
    "collapsed": false
   },
   "outputs": [],
   "source": [
    "columnsQuery = \"PRAGMA table_info(%s)\" % tables[0]\n",
    "#This query is just for column info\n",
    "cursor.execute(columnsQuery)\n",
    "columns=cursor.fetchall()\n",
    "#for column in columns:\n",
    "#    print (column)\n",
    "numberOfColumns = len(cursor.fetchall())"
   ]
  },
  {
   "cell_type": "code",
   "execution_count": 34,
   "metadata": {
    "collapsed": false
   },
   "outputs": [],
   "source": [
    "#We take a look at the table misect, which include the link stats data we need\n",
    "sectionQuery=\"SELECT * FROM MISECT\"\n",
    "cursor.execute(sectionQuery)\n",
    "rows = cursor.fetchall()#get all the data we need\n"
   ]
  },
  {
   "cell_type": "code",
   "execution_count": 46,
   "metadata": {
    "collapsed": false
   },
   "outputs": [
    {
     "name": "stdout",
     "output_type": "stream",
     "text": [
      "['did', 'oid', 'eid', 'sid', 'ent', 'flow', 'flow_D', 'count', 'count_D', 'input_flow', 'input_flow_D', 'input_count', 'input_count_D', 'ttime', 'ttime_D', 'dtime', 'dtime_D', 'dtimeVQ', 'dtimeVQ_D', 'dtimeTtime', 'dtimeTtime_D', 'speed', 'speed_D', 'spdh', 'spdh_D', 'flow_capacity', 'flow_capacity_D', 'density', 'density_D', 'qmean', 'qmean_D', 'qmax', 'qmax_D', 'qvmean', 'qvmean_D', 'qvmax', 'qvmax_D', 'qvnbvehs', 'travel', 'travel_D', 'traveltime', 'traveltime_D', 'lane_changes', 'lane_changes_D', 'stime', 'stime_D', 'nstops', 'nstops_D']\n"
     ]
    }
   ],
   "source": [
    "nameQuery=\"SELECT * FROM MISECT\"\n",
    "cursor.execute(nameQuery)\n",
    "rowName = map(lambda x: x[0], cursor.description)#the \n",
    "#rowName=cursor.fetchall()\n",
    "print rowName"
   ]
  },
  {
   "cell_type": "code",
   "execution_count": 195,
   "metadata": {
    "collapsed": false
   },
   "outputs": [],
   "source": [
    "#We want to have information for all the vehcile type need sid=0 (all vehicles), and the first time interval\n",
    "#ent=1, time interval\n",
    "#check if time interval 1 equals to time interval 0\n",
    "\n",
    "#we want to get data from the first interval (ent=1) and all vehicle information (sid=0)\n",
    "stat=rows[(rows[:,3]==0) & (rows[:,4]==1)]#look at rows where \n",
    "\n",
    "#Anther way is to write query directly, i.e.,\n",
    "#\"SELECT flow,count,ttime,speed FROM MISECT WHERE sid=0 AND ent=1\""
   ]
  },
  {
   "cell_type": "code",
   "execution_count": 196,
   "metadata": {
    "collapsed": false
   },
   "outputs": [],
   "source": [
    "flowIdx=rowName.index('flow') #flow: mean flow (veh/h)\n",
    "countIdx=rowName.index('count') #vehicle counts (veh)\n",
    "ttimeIdx=rowName.index('ttime') #mean travel time (s)\n",
    "speedIdx=rowName.index('speed')#mean speed (km/h)\n",
    "densityIdx=rowName.index('density')#density (veh/km)\n",
    "qmeanIdx=rowName.index('qmean')#mean queue length (veh)\n",
    "sectionIdx=rowName.index('oid')#sectionId"
   ]
  },
  {
   "cell_type": "code",
   "execution_count": null,
   "metadata": {
    "collapsed": true
   },
   "outputs": [],
   "source": [
    "#make a np array that include the index of flow, count,etc...\n",
    "statIdx=np.array([sectionIdx,flowIdx, countIdx,ttimeIdx,speedIdx,qmeanIdx])\n",
    "#This can also be done through SQL query\n",
    "nonNullSecIdx=np.where(stat[:,flowIdx]>0)#filer out the links with no travel flows\n",
    "\n",
    "secStatRep=stat[:,nonNullSecIdx]\n",
    "secStatRep.shape"
   ]
  },
  {
   "cell_type": "markdown",
   "metadata": {},
   "source": [
    "Note, anther way is to write query directly, where is more simple and desirable\n",
    "\n",
    "\"SELECT flow,count,ttime,speed,density,qmean,oid FROM MISECT WHERE sid=0 AND ent=1 AND flow>0\""
   ]
  },
  {
   "cell_type": "code",
   "execution_count": 216,
   "metadata": {
    "collapsed": false
   },
   "outputs": [
    {
     "name": "stdout",
     "output_type": "stream",
     "text": [
      "['did', 'oid', 'eid', 'sid', 'ent', 'flow', 'flow_D', 'count', 'count_D', 'input_flow', 'input_flow_D', 'input_count', 'input_count_D', 'ttime', 'ttime_D', 'dtime', 'dtime_D', 'dtimeVQ', 'dtimeVQ_D', 'dtimeTtime', 'dtimeTtime_D', 'speed', 'speed_D', 'spdh', 'spdh_D', 'flow_capacity', 'flow_capacity_D', 'density', 'density_D', 'qmean', 'qmean_D', 'qmax', 'qmax_D', 'qvmean', 'qvmean_D', 'qvmax', 'qvmax_D', 'qvnbvehs', 'travel', 'travel_D', 'traveltime', 'traveltime_D', 'lane_changes', 'lane_changes_D', 'stime', 'stime_D', 'nstops', 'nstops_D']\n"
     ]
    }
   ],
   "source": [
    "print rowName"
   ]
  },
  {
   "cell_type": "code",
   "execution_count": 238,
   "metadata": {
    "collapsed": false
   },
   "outputs": [],
   "source": [
    "saveFileName='LinkOutput_7.txt'\n",
    "np.savetxt(saveFileName,secStatRep,fmt=['%i', '%i', '%i', '%f', '%f', '%f'])"
   ]
  },
  {
   "cell_type": "code",
   "execution_count": 226,
   "metadata": {
    "collapsed": true
   },
   "outputs": [],
   "source": [
    "#db.commit() #commit the changes\n",
    "db.close() #close the database"
   ]
  }
 ],
 "metadata": {
  "kernelspec": {
   "display_name": "Python 3",
   "language": "python",
   "name": "python3"
  },
  "language_info": {
   "codemirror_mode": {
    "name": "ipython",
    "version": 3
   },
   "file_extension": ".py",
   "mimetype": "text/x-python",
   "name": "python",
   "nbconvert_exporter": "python",
   "pygments_lexer": "ipython3",
   "version": "3.6.0"
  }
 },
 "nbformat": 4,
 "nbformat_minor": 0
}
