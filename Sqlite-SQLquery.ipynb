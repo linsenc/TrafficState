{
 "cells": [
  {
   "cell_type": "code",
   "execution_count": 1,
   "metadata": {
    "collapsed": false
   },
   "outputs": [
    {
     "name": "stdout",
     "output_type": "stream",
     "text": [
      "C:\\MIT\\Lab\\LinsenChong\\SANDAG\n"
     ]
    }
   ],
   "source": [
    "cd C:\\MIT\\Lab\\LinsenChong\\SANDAG"
   ]
  },
  {
   "cell_type": "code",
   "execution_count": 2,
   "metadata": {
    "collapsed": true
   },
   "outputs": [],
   "source": [
    "import pandas as pd\n",
    "import numpy as np\n",
    "import sqlite3, os"
   ]
  },
  {
   "cell_type": "code",
   "execution_count": 3,
   "metadata": {
    "collapsed": true
   },
   "outputs": [],
   "source": [
    "sqlite_file='C:\\MIT\\Lab\\LinsenChong\\SANDAG\\Database\\TSS_SANDAG_NETWORK_V8_typicalDayLastestNetwork_8-10AM_1.sqlite'"
   ]
  },
  {
   "cell_type": "code",
   "execution_count": 7,
   "metadata": {
    "collapsed": false
   },
   "outputs": [],
   "source": [
    "db=sqlite3.connect(sqlite_file)"
   ]
  },
  {
   "cell_type": "code",
   "execution_count": 29,
   "metadata": {
    "collapsed": false
   },
   "outputs": [
    {
     "name": "stdout",
     "output_type": "stream",
     "text": [
      "[u'DETEQUIPVEH', u'META_COLS', u'META_INFO', u'META_SUB_INFO', u'MIDETEC', u'MINODE', u'MISECT', u'MISUBPATH', u'MISYS', u'MITURN', u'SIM_INFO']\n"
     ]
    }
   ],
   "source": [
    "tableListQuery=\"SELECT name FROM sqlite_master WHERE type='table' ORDER BY Name\"\n",
    "cursor = db.cursor() \n",
    "cursor.execute(tableListQuery)\n",
    "tables = map(lambda t: t[0], cursor.fetchall())\n",
    "print tables #get tables"
   ]
  },
  {
   "cell_type": "code",
   "execution_count": 30,
   "metadata": {
    "collapsed": false
   },
   "outputs": [
    {
     "data": {
      "text/plain": [
       "[u'DETEQUIPVEH',\n",
       " u'META_COLS',\n",
       " u'META_INFO',\n",
       " u'META_SUB_INFO',\n",
       " u'MIDETEC',\n",
       " u'MINODE',\n",
       " u'MISECT',\n",
       " u'MISUBPATH',\n",
       " u'MISYS',\n",
       " u'MITURN',\n",
       " u'SIM_INFO']"
      ]
     },
     "execution_count": 30,
     "metadata": {},
     "output_type": "execute_result"
    }
   ],
   "source": [
    "tables"
   ]
  },
  {
   "cell_type": "code",
   "execution_count": 26,
   "metadata": {
    "collapsed": false
   },
   "outputs": [
    {
     "name": "stdout",
     "output_type": "stream",
     "text": [
      "(0, u'did', u'INTEGER', 0, None, 0)\n",
      "(1, u'oid', u'INTEGER', 0, None, 0)\n",
      "(2, u'timedet', u'FLOAT', 0, None, 0)\n",
      "(3, u'idveh', u'INTEGER', 0, None, 0)\n",
      "(4, u'vehtype', u'INTEGER', 0, None, 0)\n",
      "(5, u'idptline', u'INTEGER', 0, None, 0)\n",
      "(6, u'speed', u'FLOAT', 0, None, 0)\n",
      "(7, u'headway', u'FLOAT', 0, None, 0)\n"
     ]
    }
   ],
   "source": [
    "columnsQuery = \"PRAGMA table_info(%s)\" % tables[0]\n",
    "#This query is just for column info\n",
    "\n",
    "\n",
    "\n",
    "cursor.execute(columnsQuery)\n",
    "columns=cursor.fetchall()\n",
    "for column in columns:\n",
    "    print column\n",
    "numberOfColumns = len(cursor.fetchall())"
   ]
  },
  {
   "cell_type": "code",
   "execution_count": 34,
   "metadata": {
    "collapsed": false
   },
   "outputs": [],
   "source": [
    "#We take a look at the table misect, which include the link stats data we need\n",
    "sectionQuery=\"SELECT * FROM MISECT\"\n",
    "cursor.execute(sectionQuery)\n",
    "rows = cursor.fetchall()\n"
   ]
  },
  {
   "cell_type": "code",
   "execution_count": 46,
   "metadata": {
    "collapsed": false
   },
   "outputs": [
    {
     "name": "stdout",
     "output_type": "stream",
     "text": [
      "['did', 'oid', 'eid', 'sid', 'ent', 'flow', 'flow_D', 'count', 'count_D', 'input_flow', 'input_flow_D', 'input_count', 'input_count_D', 'ttime', 'ttime_D', 'dtime', 'dtime_D', 'dtimeVQ', 'dtimeVQ_D', 'dtimeTtime', 'dtimeTtime_D', 'speed', 'speed_D', 'spdh', 'spdh_D', 'flow_capacity', 'flow_capacity_D', 'density', 'density_D', 'qmean', 'qmean_D', 'qmax', 'qmax_D', 'qvmean', 'qvmean_D', 'qvmax', 'qvmax_D', 'qvnbvehs', 'travel', 'travel_D', 'traveltime', 'traveltime_D', 'lane_changes', 'lane_changes_D', 'stime', 'stime_D', 'nstops', 'nstops_D']\n"
     ]
    }
   ],
   "source": [
    "nameQuery=\"SELECT * FROM MISECT\"\n",
    "cursor.execute(nameQuery)\n",
    "rowName = map(lambda x: x[0], cursor.description)\n",
    "#rowName=cursor.fetchall()\n",
    "print rowName"
   ]
  },
  {
   "cell_type": "code",
   "execution_count": 59,
   "metadata": {
    "collapsed": false
   },
   "outputs": [
    {
     "data": {
      "text/plain": [
       "(87906L, 48L)"
      ]
     },
     "execution_count": 59,
     "metadata": {},
     "output_type": "execute_result"
    }
   ],
   "source": [
    "rows=np.array(rows)\n",
    "rows.shape"
   ]
  },
  {
   "cell_type": "code",
   "execution_count": 195,
   "metadata": {
    "collapsed": false
   },
   "outputs": [],
   "source": [
    "#need sid=0 (all vehicles), and \n",
    "#ent=1, time interval\n",
    "#check if time interval 1 equals to time interval 0\n",
    "#play around for a little bit, if everything works fine, then process the final data in python. Otherwise\n",
    "#save it to matlab\n",
    "\n",
    "#column \n",
    "\n",
    "#np.where((rows[:,3]==1) & (rows[:,4]==0))\n",
    "stat=rows[(rows[:,3]==0) & (rows[:,4]==1)]\n",
    "#stat=rows"
   ]
  },
  {
   "cell_type": "code",
   "execution_count": 196,
   "metadata": {
    "collapsed": false
   },
   "outputs": [],
   "source": [
    "flowIdx=rowName.index('flow') #flow: mean flow (veh/h)\n",
    "countIdx=rowName.index('count') #vehicle counts (veh)\n",
    "ttimeIdx=rowName.index('ttime') #mean travel time (s)\n",
    "speedIdx=rowName.index('speed')#mean speed (km/h)\n",
    "densityIdx=rowName.index('density')#density (veh/km)\n",
    "qmeanIdx=rowName.index('qmean')#mean queue length (veh)\n",
    "sectionIdx=rowName.index('oid')#sectionId"
   ]
  },
  {
   "cell_type": "code",
   "execution_count": 197,
   "metadata": {
    "collapsed": false
   },
   "outputs": [
    {
     "data": {
      "text/plain": [
       "3381"
      ]
     },
     "execution_count": 197,
     "metadata": {},
     "output_type": "execute_result"
    }
   ],
   "source": [
    "87906/13/2 #13 vehicle types and 2 intervals (1 aggregated interval) \n",
    "#need to check if we have 13 vehicle types, 3381 links, really\n",
    "#checked. The total number of links is 3381"
   ]
  },
  {
   "cell_type": "code",
   "execution_count": 198,
   "metadata": {
    "collapsed": false
   },
   "outputs": [
    {
     "data": {
      "text/plain": [
       "3381"
      ]
     },
     "execution_count": 198,
     "metadata": {},
     "output_type": "execute_result"
    }
   ],
   "source": [
    "len(np.unique(rows[:,1]))"
   ]
  },
  {
   "cell_type": "code",
   "execution_count": 199,
   "metadata": {
    "collapsed": false
   },
   "outputs": [],
   "source": [
    "#make a np array that include the index of flow, count,etc...\n",
    "statIdx=np.array([sectionIdx,flowIdx, countIdx,ttimeIdx,speedIdx,qmeanIdx])\n",
    "\n"
   ]
  },
  {
   "cell_type": "code",
   "execution_count": 200,
   "metadata": {
    "collapsed": false
   },
   "outputs": [
    {
     "data": {
      "text/plain": [
       "3249L"
      ]
     },
     "execution_count": 200,
     "metadata": {},
     "output_type": "execute_result"
    }
   ],
   "source": [
    "nonNullSecIdx=np.where(stat[:,flowIdx]>0)#filer out\n",
    "np.array(nonNullSecIdx).shape[1]"
   ]
  },
  {
   "cell_type": "code",
   "execution_count": 201,
   "metadata": {
    "collapsed": false
   },
   "outputs": [
    {
     "data": {
      "text/plain": [
       "array([[16021502, 367, u'4476', ..., 8.805863453400498,\n",
       "        0.10331632653061225, -1.0],\n",
       "       [16021502, 368, u'4476', ..., 36.671321423426114,\n",
       "        0.4748427672955975, -1.0],\n",
       "       [16021502, 369, u'4490', ..., 0.0, 0.0, -1.0],\n",
       "       ..., \n",
       "       [16021502, 15763164, None, ..., 0.3150571419471383,\n",
       "        0.7333333333333333, -1.0],\n",
       "       [16021502, 15763166, None, ..., 0.25772157965221937,\n",
       "        0.8333333333333334, -1.0],\n",
       "       [16021502, 15763172, None, ..., 0.0, 0.0, -1.0]], dtype=object)"
      ]
     },
     "execution_count": 201,
     "metadata": {},
     "output_type": "execute_result"
    }
   ],
   "source": [
    "secStat=stat[np.array(nonNullSecIdx),:][0]\n",
    "secStat"
   ]
  },
  {
   "cell_type": "code",
   "execution_count": 235,
   "metadata": {
    "collapsed": false
   },
   "outputs": [
    {
     "data": {
      "text/plain": [
       "(3381L, 6L)"
      ]
     },
     "execution_count": 235,
     "metadata": {},
     "output_type": "execute_result"
    }
   ],
   "source": [
    "#since a small portion of sections have no flow, there is no need to filter them out\n",
    "#rewrite scripts\n",
    "\n",
    "secStatRep=stat[:,statIdx]\n",
    "secStatRep.shape"
   ]
  },
  {
   "cell_type": "code",
   "execution_count": 215,
   "metadata": {
    "collapsed": false
   },
   "outputs": [
    {
     "data": {
      "text/plain": [
       "array([16021502, 367, u'4476', 0, 1, 784.0, -1.0, 784.0, -1.0, 785.0, -1.0,\n",
       "       785.0, -1.0, 11.679054608690283, 9.789390387418125,\n",
       "       4.26069430788263, 9.581389477736767, 4.26069430788263,\n",
       "       9.581389477736767, 36.481500006963614, -1.0, 60.29632065661884,\n",
       "       16.46661034190842, 50.149417887912016, 22.557953524552925,\n",
       "       0.38487279724959944, -1.0, 6.628523135041511, -1.0,\n",
       "       0.13639351851851853, -1.0, 5.0, -1.0, 0.0, -1.0, 0.0, -1.0, 0.0,\n",
       "       127.52078238024973, -1.0, 9156.378813213181, -1.0,\n",
       "       0.23341836734693877, -1.0, 1.7985538753731813, 8.805863453400498,\n",
       "       0.10331632653061225, -1.0], dtype=object)"
      ]
     },
     "execution_count": 215,
     "metadata": {},
     "output_type": "execute_result"
    }
   ],
   "source": [
    "stat[0]"
   ]
  },
  {
   "cell_type": "code",
   "execution_count": 216,
   "metadata": {
    "collapsed": false
   },
   "outputs": [
    {
     "name": "stdout",
     "output_type": "stream",
     "text": [
      "['did', 'oid', 'eid', 'sid', 'ent', 'flow', 'flow_D', 'count', 'count_D', 'input_flow', 'input_flow_D', 'input_count', 'input_count_D', 'ttime', 'ttime_D', 'dtime', 'dtime_D', 'dtimeVQ', 'dtimeVQ_D', 'dtimeTtime', 'dtimeTtime_D', 'speed', 'speed_D', 'spdh', 'spdh_D', 'flow_capacity', 'flow_capacity_D', 'density', 'density_D', 'qmean', 'qmean_D', 'qmax', 'qmax_D', 'qvmean', 'qvmean_D', 'qvmax', 'qvmax_D', 'qvnbvehs', 'travel', 'travel_D', 'traveltime', 'traveltime_D', 'lane_changes', 'lane_changes_D', 'stime', 'stime_D', 'nstops', 'nstops_D']\n"
     ]
    }
   ],
   "source": [
    "print rowName"
   ]
  },
  {
   "cell_type": "code",
   "execution_count": 238,
   "metadata": {
    "collapsed": false
   },
   "outputs": [],
   "source": [
    "saveFileName='C:/MIT/Lab/LinsenChong/SANDAG/Database/test.txt'\n",
    "np.savetxt(saveFileName,secStatRep,fmt=['%i', '%i', '%i', '%f', '%f', '%f'])"
   ]
  },
  {
   "cell_type": "code",
   "execution_count": 226,
   "metadata": {
    "collapsed": true
   },
   "outputs": [],
   "source": [
    "#db.commit() #commit the changes\n",
    "db.close() #close the database"
   ]
  },
  {
   "cell_type": "code",
   "execution_count": null,
   "metadata": {
    "collapsed": true
   },
   "outputs": [],
   "source": [
    "#next step. write an iterative script that includes: update database next, Update savetxt file name, etc..)"
   ]
  }
 ],
 "metadata": {
  "kernelspec": {
   "display_name": "Python 2",
   "language": "python",
   "name": "python2"
  },
  "language_info": {
   "codemirror_mode": {
    "name": "ipython",
    "version": 2
   },
   "file_extension": ".py",
   "mimetype": "text/x-python",
   "name": "python",
   "nbconvert_exporter": "python",
   "pygments_lexer": "ipython2",
   "version": "2.7.11"
  }
 },
 "nbformat": 4,
 "nbformat_minor": 0
}
